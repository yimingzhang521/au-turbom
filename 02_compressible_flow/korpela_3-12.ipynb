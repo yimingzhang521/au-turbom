{
 "cells": [
  {
   "cell_type": "markdown",
   "source": [
    "# Principles of Turbomachinery, S. A. Korpela, Wiley, 2019 (2nd Edition): Problem 3.12\r\n",
    "\r\n",
    "Air enters a section in the diverging part of a supersonic nozzle with $M_i = 4$. The flow is slowed down by a shock such that at the exit of the nozzle, where $A_e = 2 A_i$, Mach number is $M_e = 0.3$. (a) Find the Mach number $M_1$ just upstream of the shock. (b) Find the pressure ratio across the shock.\r\n",
    "\r\n",
    "---"
   ],
   "metadata": {}
  },
  {
   "cell_type": "code",
   "execution_count": null,
   "source": [
    "# Problem data\r\n",
    "M_i = 4\r\n"
   ],
   "outputs": [],
   "metadata": {}
  },
  {
   "cell_type": "markdown",
   "source": [
    "## Find Mach number upstream"
   ],
   "metadata": {}
  },
  {
   "cell_type": "markdown",
   "source": [
    "## Find pressure ratio across the shock"
   ],
   "metadata": {}
  },
  {
   "cell_type": "markdown",
   "source": [],
   "metadata": {}
  }
 ],
 "metadata": {
  "orig_nbformat": 4,
  "language_info": {
   "name": "python"
  }
 },
 "nbformat": 4,
 "nbformat_minor": 2
}