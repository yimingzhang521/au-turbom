{
 "cells": [
  {
   "cell_type": "markdown",
   "source": [
    "# Principles of Turbomachinery, S. A. Korpela, Wiley, 2019 (2nd Edition): Problem 3.6\r\n",
    "\r\n",
    "Air flows through a circular duct $15 \\ cm$ in diameter with a flow rate $2.25 \\ kg s^-1$. The total temperature and static pressure at a certain location in the duct are $30 \\ \\circ C$ and $106 \\ kPa$, respectively. Find (a) the flow velocity, (b) the static temperature, (c) the stagnation pressure, and (d) the density at this location.\r\n",
    "\r\n",
    "---"
   ],
   "metadata": {}
  },
  {
   "cell_type": "code",
   "execution_count": 94,
   "source": [
    "from sympy import (pi, Symbol, sqrt)\r\n",
    "from sympy.solvers import solve\r\n",
    "\r\n",
    "# Problem data\r\n",
    "d_1  = 15e-2       # Duct diameter [m]\r\n",
    "mdot = 2.25        # Mass flow rate [kg s^-1]\r\n",
    "T_01 = 30 + 273.15 # Total temperature at location 1 [K]\r\n",
    "p_1 = 106e3        # Static pressure [Pa]\r\n",
    "gamma = 1.4        # Specific heat ratio [-]\r\n",
    "R = 0.287e3        # Specific gas constant [J kg^-1 K^-1]"
   ],
   "outputs": [],
   "metadata": {}
  },
  {
   "cell_type": "markdown",
   "source": [
    "## Flow velocity\r\n",
    "\r\n",
    "Let us write the mass balance:\r\n",
    "\r\n",
    "$$\r\n",
    "\\dot{m} = \\rho_1 A_1 V_1\r\n",
    "$$\r\n",
    "\r\n",
    "Using the definition of Mach number and the ideal gas equation, we get:\r\n",
    "\r\n",
    "$$\r\n",
    "\\dot{m} = \\frac{p_1 A_1 M_1 \\sqrt{\\gamma R T_1}}{R T_1}\r\n",
    "$$\r\n",
    "\r\n",
    "Let us bring the terms at the denominator under the square root and force $T_0$ into the expression:\r\n",
    "\r\n",
    "$$\r\n",
    "\\dot{m} = p_1 A_1 M_1 \\sqrt{\\frac{T_0}{T_0}\\frac{\\gamma}{R T_1}} = p_1 A_1 M_1 \\sqrt{\\frac{T_0}{T_1}} \\sqrt{\\frac{\\gamma}{R T_0}}\r\n",
    "$$\r\n",
    "\r\n",
    "Recall the ratio between static and total temperature may be written in function of Mach number:\r\n",
    "\r\n",
    "$$\r\n",
    "\\frac{T_0}{T_1} = 1 + \\frac{\\gamma - 1}{2} M_1^2\r\n",
    "$$\r\n",
    "\r\n",
    "Isolating the term $\\sqrt{\\frac{T_0}{T_1}}$ we find:\r\n",
    "\r\n",
    "$$\r\n",
    "\\frac{\\dot{m} \\sqrt{\\frac{R T_0}{\\gamma}}}{p_1 A_1 M_1} = \\sqrt{1 + \\frac{\\gamma - 1}{2} M_1^2}\r\n",
    "$$\r\n",
    "\r\n",
    "Finally, squaring each sides, we find an expression uniquely depend from $M_1$:\r\n",
    "\r\n",
    "$$\r\n",
    "\\frac{\\dot{m}^2 \\frac{R T_0}{\\gamma}}{p_1^2 A_1^2 M_1^2} = 1 + \\frac{\\gamma - 1}{2} M_1^2\r\n",
    "$$"
   ],
   "metadata": {}
  },
  {
   "cell_type": "code",
   "execution_count": 95,
   "source": [
    "A_1 = (pi * d_1 ** 2)/4\r\n",
    "M_1 = Symbol('M_1', real = True, positive = True)\r\n",
    "eqn = (mdot ** 2 * (R * T_01)/(gamma))/(p_1 ** 2 * A_1 ** 2 * M_1 ** 2) - 1 - (gamma - 1)/(2) * M_1 ** 2\r\n",
    "sol = solve(eqn, M_1)\r\n",
    "M_1 = sol[0].evalf()\r\n",
    "print(f\"Mach number is M_1 = {M_1:0.3f}\")"
   ],
   "outputs": [
    {
     "output_type": "stream",
     "name": "stdout",
     "text": [
      "Mach number is M_1 = 0.297\n"
     ]
    }
   ],
   "metadata": {}
  },
  {
   "cell_type": "markdown",
   "source": [
    "The velocity is:\r\n",
    "\r\n",
    "$$\r\n",
    "V_1 = M_1 \\sqrt{\\gamma R T_1}\r\n",
    "$$"
   ],
   "metadata": {}
  },
  {
   "cell_type": "code",
   "execution_count": 96,
   "source": [
    "V_1 = M_1 * sqrt(gamma * R * T_1)\r\n",
    "print(f\"Velocity V_1 = {V_1:0.1f} m s^-1\")"
   ],
   "outputs": [
    {
     "output_type": "stream",
     "name": "stdout",
     "text": [
      "Velocity V_1 = 102.7 m s^-1\n"
     ]
    }
   ],
   "metadata": {}
  },
  {
   "cell_type": "markdown",
   "source": [
    "The static temperature is found from total temperature:\r\n",
    "\r\n",
    "$$\r\n",
    "T_1 = \\frac{T_{01}}{1 + \\frac{\\gamma - 1}{2} M_1^2}\r\n",
    "$$"
   ],
   "metadata": {}
  },
  {
   "cell_type": "code",
   "execution_count": 97,
   "source": [
    "T_1 = T_01/(1 + (gamma - 1)/2 * M_1 ** 2)\r\n",
    "print(f\"Temperature T_1 = {T_1:0.1f} K\")"
   ],
   "outputs": [
    {
     "output_type": "stream",
     "name": "stdout",
     "text": [
      "Temperature T_1 = 297.9 K\n"
     ]
    }
   ],
   "metadata": {}
  },
  {
   "cell_type": "markdown",
   "source": [
    "## Stagnation pressure\r\n",
    "\r\n",
    "The stagnation pressure is:\r\n",
    "\r\n",
    "$$\r\n",
    "p_{01} = p_1 \\left(\\frac{T_{01}}{T_1} \\right)^{\\frac{\\gamma}{\\gamma - 1}}\r\n",
    "$$"
   ],
   "metadata": {}
  },
  {
   "cell_type": "code",
   "execution_count": 98,
   "source": [
    "p_01 = p_1 * (T_01/T_1) ** (gamma /(gamma - 1))\r\n",
    "print(f\"p_01 = {p_01*1e-3:0.1f} kPa\")"
   ],
   "outputs": [
    {
     "output_type": "stream",
     "name": "stdout",
     "text": [
      "p_01 = 112.7 kPa\n"
     ]
    }
   ],
   "metadata": {}
  },
  {
   "cell_type": "markdown",
   "source": [
    "## Static density\r\n",
    "\r\n",
    "The static density is:\r\n",
    "\r\n",
    "$$\r\n",
    "\\rho_1 = \\frac{p_1}{R T_1}\r\n",
    "$$"
   ],
   "metadata": {}
  },
  {
   "cell_type": "code",
   "execution_count": 99,
   "source": [
    "rho_1 = p_1/(R * T_1)\r\n",
    "print(f\"Density rho_1 = {rho_1:0.2f} kg m^-3\")"
   ],
   "outputs": [
    {
     "output_type": "stream",
     "name": "stdout",
     "text": [
      "Density rho_1 = 1.24 kg m^-3\n"
     ]
    }
   ],
   "metadata": {}
  }
 ],
 "metadata": {
  "orig_nbformat": 4,
  "language_info": {
   "name": "python",
   "version": "3.9.7",
   "mimetype": "text/x-python",
   "codemirror_mode": {
    "name": "ipython",
    "version": 3
   },
   "pygments_lexer": "ipython3",
   "nbconvert_exporter": "python",
   "file_extension": ".py"
  },
  "kernelspec": {
   "name": "python3",
   "display_name": "Python 3.9.7 64-bit ('au-turbom': conda)"
  },
  "interpreter": {
   "hash": "46a2c83c2d39856e581c9d9e9103cafa7f7cbdbc42d7d075d34e1e4928c55f92"
  }
 },
 "nbformat": 4,
 "nbformat_minor": 2
}