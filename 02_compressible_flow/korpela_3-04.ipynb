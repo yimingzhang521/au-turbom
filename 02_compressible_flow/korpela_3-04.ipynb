{
 "cells": [
  {
   "cell_type": "markdown",
   "source": [
    "# Principles of Turbomachinery, S. A. Korpela, Wiley, 2019 (2nd Edition): Problem 3.3\r\n",
    "\r\n",
    "The area of a throat in a circular nozzle is $A_t = 1 \\ cm^2$. For a choked flow find the diameter where $M_1 = 0.5$. Determine the value of Mach number at a location where the diameter is $D_2 = 1.941 \\ cm$. Assume the flow to be isentropic and $\\gamma = 1.4$.\r\n",
    "\r\n",
    "---"
   ],
   "metadata": {}
  },
  {
   "cell_type": "code",
   "execution_count": 38,
   "source": [
    "from sympy import (solve, sqrt, Symbol)\r\n",
    "from numpy import pi\r\n",
    "\r\n",
    "# Problem data\r\n",
    "A_star = 1e-4     # Throat area [m^2]\r\n",
    "M_1    = 0.5      # Mach number at location 1\r\n",
    "D_2    = 1.941e-2 # Diameter at location 2\r\n",
    "gamma  = 1.4      # Specific heat ratio [-]"
   ],
   "outputs": [],
   "metadata": {}
  },
  {
   "cell_type": "markdown",
   "source": [
    "# Find the diameter where $M_1 = 0.5$\r\n",
    "\r\n",
    "Since the flow is choked, we may related the cross-sectional area at a given location to the sonic cross-sectional area as follows:\r\n",
    "\r\n",
    "$$\r\n",
    "\\frac{A^*}{A_1} = \\frac{1}{M_1} \\left( \\frac{2}{\\gamma + 1} + \\frac{\\gamma - 1}{\\gamma + 1} M_1^2 \\right)^{\\frac{\\gamma + 1}{2 (\\gamma + 1)}}\r\n",
    "$$"
   ],
   "metadata": {}
  },
  {
   "cell_type": "code",
   "execution_count": 33,
   "source": [
    "r = 1/M_1 * (2/(gamma + 1) + (gamma - 1)/(gamma + 1) * M_1 ** 2) ** ((gamma + 1)/(2 * (gamma - 1)))\r\n",
    "print(f\"The ratio between sonic cross-sectional area and cross-sectional area at location 1 is r = {r:0.2f}\")"
   ],
   "outputs": [
    {
     "output_type": "stream",
     "name": "stdout",
     "text": [
      "The ratio between sonic cross-sectional area and cross-sectional area at location 1 is r = 1.34\n"
     ]
    }
   ],
   "metadata": {}
  },
  {
   "cell_type": "markdown",
   "source": [
    "Once the ratio $r = \\frac{A^*}{A_1}$ is known, one may find $A_1$:\r\n",
    "\r\n",
    "$$\r\n",
    "A_1 = r A^*\r\n",
    "$$"
   ],
   "metadata": {}
  },
  {
   "cell_type": "code",
   "execution_count": 34,
   "source": [
    "A_1 = r * A_star\r\n",
    "print(f\"The area at location 1 is A_1 = {A_1:0.6f} m^2\")"
   ],
   "outputs": [
    {
     "output_type": "stream",
     "name": "stdout",
     "text": [
      "The area at location 1 is A_1 = 0.000134 m^2\n"
     ]
    }
   ],
   "metadata": {}
  },
  {
   "cell_type": "markdown",
   "source": [
    "Recall the diameter of the nozzle may be written as a function of area as follows:\r\n",
    "\r\n",
    "$$\r\n",
    "D_1 = \\sqrt{\\frac{4 A_1}{\\pi}}\r\n",
    "$$"
   ],
   "metadata": {}
  },
  {
   "cell_type": "code",
   "execution_count": 35,
   "source": [
    "D_1 = sqrt((4 * A_1)/pi)\r\n",
    "print(f\"The diameter at location 1 is D_1 = {D_1:0.4f} m\")"
   ],
   "outputs": [
    {
     "output_type": "stream",
     "name": "stdout",
     "text": [
      "The diameter at location 1 is D_1 = 0.0131 m\n"
     ]
    }
   ],
   "metadata": {}
  },
  {
   "cell_type": "markdown",
   "source": [
    "# Mach number where $D = 1.941 m$\r\n",
    "\r\n",
    "Similarly to what we have done before, we may obtain the cross-sectional area at location 1:\r\n",
    "\r\n",
    "$$\r\n",
    "A_1 = \\frac{\\pi D_1^2}{4}\r\n",
    "$$\r\n",
    "\r\n",
    "Relating area $A_1$ with the sonic cross-sectional area we find:\r\n",
    "\r\n",
    "$$\r\n",
    "\\frac{A_2}{A^*} = \\frac{1}{M_2} \\left( \\frac{2}{\\gamma + 1} + \\frac{\\gamma - 1}{\\gamma + 1} M_2^2 \\right)^{\\frac{\\gamma + 1}{2 (\\gamma + 1)}}\r\n",
    "$$"
   ],
   "metadata": {}
  },
  {
   "cell_type": "code",
   "execution_count": 36,
   "source": [
    "A_2 = (pi * D_2 ** 2)/4\r\n",
    "A_2"
   ],
   "outputs": [
    {
     "output_type": "execute_result",
     "data": {
      "text/plain": [
       "0.00029589726580347823"
      ]
     },
     "metadata": {},
     "execution_count": 36
    }
   ],
   "metadata": {}
  },
  {
   "cell_type": "code",
   "execution_count": 43,
   "source": [
    "M_2 = Symbol('M_2')\r\n",
    "M_2_value = solve(A_2/A_star - 1/M_2 * (2/(gamma + 1) + (gamma - 1)/(gamma + 1) * M_2 ** 2) ** (gamma + 1)/(2 * (gamma - 1)), M_2)\r\n",
    "M_2_value"
   ],
   "outputs": [
    {
     "output_type": "execute_result",
     "data": {
      "text/plain": [
       "[]"
      ]
     },
     "metadata": {},
     "execution_count": 43
    }
   ],
   "metadata": {}
  }
 ],
 "metadata": {
  "orig_nbformat": 4,
  "language_info": {
   "name": "python",
   "version": "3.9.7",
   "mimetype": "text/x-python",
   "codemirror_mode": {
    "name": "ipython",
    "version": 3
   },
   "pygments_lexer": "ipython3",
   "nbconvert_exporter": "python",
   "file_extension": ".py"
  },
  "kernelspec": {
   "name": "python3",
   "display_name": "Python 3.9.7 64-bit ('au-turbom': conda)"
  },
  "interpreter": {
   "hash": "46a2c83c2d39856e581c9d9e9103cafa7f7cbdbc42d7d075d34e1e4928c55f92"
  }
 },
 "nbformat": 4,
 "nbformat_minor": 2
}