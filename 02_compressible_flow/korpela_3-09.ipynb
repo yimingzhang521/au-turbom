{
 "cells": [
  {
   "cell_type": "markdown",
   "source": [
    "# Principles of Turbomachinery, S. A. Korpela, Wiley, 2019 (2nd Edition): Problem 3.9\r\n",
    "\r\n",
    "Air flows subsonically in a converging nozzle. At a downstream location where the Mach number is $M_2 = 0.5$, the flow area is $A_2$. What is the Mach number at an upstream location where $A_1 = 2 A_2$.\r\n",
    "\r\n",
    "---"
   ],
   "metadata": {}
  },
  {
   "cell_type": "code",
   "execution_count": 12,
   "source": [
    "from sympy import Symbol\r\n",
    "from sympy.solvers import solve\r\n",
    "\r\n",
    "# Problem data\r\n",
    "M_2 = 0.5\r\n",
    "gamma = 1.4"
   ],
   "outputs": [],
   "metadata": {}
  },
  {
   "cell_type": "markdown",
   "source": [
    "Let us relate location with flow are $A_2$ to the sonic location:\r\n",
    "\r\n",
    "$$\r\n",
    "\\frac{A_2}{A^*} = \\frac{1}{M_2} \\left( \\frac{2}{\\gamma + 1} + \\frac{\\gamma - 1}{\\gamma + 1} M_2^2 \\right)^{\\frac{\\gamma + 1}{2 (\\gamma - 1)}}\r\n",
    "$$"
   ],
   "metadata": {}
  },
  {
   "cell_type": "markdown",
   "source": [
    "We can then find $A^*$ as follows:\r\n",
    "\r\n",
    "$$\r\n",
    "A^* = \\frac{A_2}{r}\r\n",
    "$$"
   ],
   "metadata": {}
  },
  {
   "cell_type": "code",
   "execution_count": 10,
   "source": [
    "r = 1/M_2 * (2/(gamma + 1) + (gamma - 1)/(gamma + 1) * M_2 ** 2) ** ((gamma + 1)/(2 * (gamma - 1)))\r\n",
    "print(f\"r = {r:0.2f}\")"
   ],
   "outputs": [
    {
     "output_type": "stream",
     "name": "stdout",
     "text": [
      "r = 1.34\n"
     ]
    }
   ],
   "metadata": {}
  },
  {
   "cell_type": "markdown",
   "source": [
    "Similarly, let us relate $A^*$ to $A_1$ (using the realtion $A_1 = 2 A_2$):\r\n",
    "\r\n",
    "$$\r\n",
    "2 \\frac{A_2}{A^*} = \\frac{1}{M_1} \\left( \\frac{2}{\\gamma + 1} + \\frac{\\gamma - 1}{\\gamma + 1} M_1^2 \\right)^{\\frac{\\gamma + 1}{2 (\\gamma - 1)}}\r\n",
    "$$"
   ],
   "metadata": {}
  },
  {
   "cell_type": "code",
   "execution_count": 14,
   "source": [
    "M_1 = Symbol('M_1', real = True, positive = True)\r\n",
    "sol = solve(2 * r - 1/M_1 * (2/(gamma + 1) + (gamma - 1)/(gamma + 1) * M_1 ** 2) ** ((gamma + 1)/(2 * (gamma - 1))), M_1)\r\n",
    "sol"
   ],
   "outputs": [
    {
     "output_type": "execute_result",
     "data": {
      "text/plain": [
       "[0.222434050020798, 2.51730370340075]"
      ]
     },
     "metadata": {},
     "execution_count": 14
    }
   ],
   "metadata": {}
  },
  {
   "cell_type": "markdown",
   "source": [
    "The solution to the quadratic equations yields two solutions, both with physical significance. We know, however, that the nozzle is subsonic. Therefore the correct solution is 0.222"
   ],
   "metadata": {}
  }
 ],
 "metadata": {
  "orig_nbformat": 4,
  "language_info": {
   "name": "python",
   "version": "3.9.7",
   "mimetype": "text/x-python",
   "codemirror_mode": {
    "name": "ipython",
    "version": 3
   },
   "pygments_lexer": "ipython3",
   "nbconvert_exporter": "python",
   "file_extension": ".py"
  },
  "kernelspec": {
   "name": "python3",
   "display_name": "Python 3.9.7 64-bit ('au-turbom': conda)"
  },
  "interpreter": {
   "hash": "46a2c83c2d39856e581c9d9e9103cafa7f7cbdbc42d7d075d34e1e4928c55f92"
  }
 },
 "nbformat": 4,
 "nbformat_minor": 2
}