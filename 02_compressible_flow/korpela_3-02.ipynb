{
 "cells": [
  {
   "cell_type": "markdown",
   "source": [
    "# Principles of Turbomachinery, S. A. Korpela, Wiley, 2019 (2nd Edition): Problem 3.2\r\n",
    "\r\n",
    "Air flows in a converging duct. At a certain location, where the area is $A_1 = 6.5 \\ cm^2$, pressure is $p_1 = 140 \\ kPa$ and Mach number is $M_1 = 0.6$. The mass flow rate is $\\dot{m} = 0.25 kg s^-1$. (a) Find the stagnation temperature. (b) If the flow is choked find the size of the throat area. (c) Give the percent reduction in area from station 1 to the throat. (d) Find the pressure at the throat.\r\n",
    "\r\n",
    "---"
   ],
   "metadata": {}
  },
  {
   "cell_type": "code",
   "execution_count": 30,
   "source": [
    "%reset -f\r\n",
    "\r\n",
    "# Problem data\r\n",
    "A_1   = 6.5e-4  # Duct cross sectional area at location 1 [m^2]\r\n",
    "p_1   = 140e3   # Pressure at location 1 [Pa]\r\n",
    "M_1   = 0.6     # Mach number at location 1\r\n",
    "m_dot = 0.25    # Mass flow rate at location 1\r\n",
    "gamma = 1.4     # Specific heat ratio [-]\r\n",
    "R     = 0.287e3 # Specific gas constant for air [J kg^-1 K^-1]"
   ],
   "outputs": [],
   "metadata": {}
  },
  {
   "cell_type": "markdown",
   "source": [
    "## Stagnation temperature\r\n",
    "\r\n",
    "Writing conservation of mass for a control volume enclosing the converging duct leads to:\r\n",
    "\r\n",
    "$$\r\n",
    "\\dot{m} = \\rho_1 A_1 V_1\r\n",
    "$$\r\n",
    "\r\n",
    "From the definition of Mach number, we may rewrite velocity $V_1$ as follows:\r\n",
    "\r\n",
    "$$\r\n",
    "V_1 = M_1 \\sqrt{\\gamma R T_1}\r\n",
    "$$\r\n",
    "\r\n",
    "Moreover, from the ideal gas equation we may rewrite density $\\rho_1$ as follows:\r\n",
    "\r\n",
    "$$\r\n",
    "\\rho_1 = \\frac{p_1}{R T_1}\r\n",
    "$$\r\n",
    "\r\n",
    "Substituting back into the conservation of mass equation gives us:\r\n",
    "\r\n",
    "$$\r\n",
    "\\dot{m} = \\frac{p_1 A_1 M_1 \\sqrt{\\gamma R T_1}}{R T_1}\r\n",
    "$$\r\n",
    "\r\n",
    "Solving for $T_1$:\r\n",
    "\r\n",
    "$$\r\n",
    "T_1 = \\left(\\frac{p_1 A_1 M_1}{\\dot{m}}\\right)^2 \\frac{\\gamma}{R}\r\n",
    "$$"
   ],
   "metadata": {}
  },
  {
   "cell_type": "code",
   "execution_count": 31,
   "source": [
    "T_1 = ((p_1 * A_1 * M_1)/m_dot) ** 2 * gamma / R\r\n",
    "print(f\"The temperature at location 1 is T_1 = {T_1:0.1f} K\")"
   ],
   "outputs": [
    {
     "output_type": "stream",
     "name": "stdout",
     "text": [
      "The temperature at location 1 is T_1 = 232.7 K\n"
     ]
    }
   ],
   "metadata": {}
  },
  {
   "cell_type": "markdown",
   "source": [
    "The corresponding stagnation temperature $T_{01}$ is then:\r\n",
    "\r\n",
    "$$\r\n",
    "T_{01} = T_1 \\left(1 + \\frac{\\gamma - 1}{2} M_1^2 \\right)\r\n",
    "$$"
   ],
   "metadata": {}
  },
  {
   "cell_type": "code",
   "execution_count": 32,
   "source": [
    "T_01 = T_1 * (1 + (gamma - 1)/2 * M_1 ** 2)\r\n",
    "print(f\"The stagnation temperature at location 1 is T_01 = {T_01:0.1f} K\")"
   ],
   "outputs": [
    {
     "output_type": "stream",
     "name": "stdout",
     "text": [
      "The stagnation temperature at location 1 is T_01 = 249.4 K\n"
     ]
    }
   ],
   "metadata": {}
  },
  {
   "cell_type": "markdown",
   "source": [
    "## Cross-sectional area at the outlet\r\n",
    "\r\n",
    "If the flow is choked, the cross-sectional area must equal the sonic cross-sectional area. We may find the ratio between the cross-sectional area at location 1 and the sonic cross sectional area as follows:\r\n",
    "\r\n",
    "$$\r\n",
    "\\frac{A^*}{A_1} = \\frac{1}{M_1} \\left(\\frac{2}{\\gamma + 1} + \\frac{\\gamma - 1}{\\gamma + 1} M_1^2 \\right)^{\\frac{\\gamma + 1}{2 (\\gamma + 1)}}\r\n",
    "$$\r\n",
    "\r\n",
    "Solving for the sonic cross-sectional area $A^*$:\r\n",
    "\r\n",
    "$$\r\n",
    "A^* = A_1 M_1 \\left(\\frac{2}{\\gamma + 1} + \\frac{\\gamma - 1}{\\gamma + 1} M_1^2 \\right)^{-\\frac{\\gamma + 1}{2 (\\gamma + 1)}}\r\n",
    "$$"
   ],
   "metadata": {}
  },
  {
   "cell_type": "code",
   "execution_count": 37,
   "source": [
    "A_star = A_1 * M_1 * (2/(gamma + 1) + (gamma - 1)/(gamma + 1) * M_1 ** 2) ** (-(gamma + 1)/(2 * (gamma - 1)))\r\n",
    "print(f\"The sonic cross-sectional area is A_star = {A_star:0.6f} m^2\")"
   ],
   "outputs": [
    {
     "output_type": "stream",
     "name": "stdout",
     "text": [
      "The sonic cross-sectional area is A_star = 0.000547 m^2\n"
     ]
    }
   ],
   "metadata": {}
  },
  {
   "cell_type": "markdown",
   "source": [
    "## Percent reduction in area\r\n",
    "\r\n",
    "The percent reduction in area is calculated from the cross-sectional area at the known location and the sonic cross-sectional area as follows:\r\n",
    "\r\n",
    "$$\r\n",
    "\\Delta A_{\\%} = 100 \\frac{A_1 - A^*}{A_1}\r\n",
    "$$"
   ],
   "metadata": {}
  },
  {
   "cell_type": "code",
   "execution_count": 41,
   "source": [
    "Delta_A = 100 * (A_1 - A_star)/A_1\r\n",
    "print(f\"The percent reduction in area is Delta_A = {Delta_A:0.2f}%\")"
   ],
   "outputs": [
    {
     "output_type": "stream",
     "name": "stdout",
     "text": [
      "The percent reduction in area is Delta_A = 15.84%\n"
     ]
    }
   ],
   "metadata": {}
  },
  {
   "cell_type": "markdown",
   "source": [
    "## Pressure at the throat\r\n",
    "\r\n",
    "Since the flow is choked, pressure at the throat equals the sonic pressure:\r\n",
    "\r\n",
    "$$\r\n",
    "p^* = p_{01} \\left(\\frac{2}{\\gamma - 1} \\right)^{\\frac{\\gamma}{\\gamma - 1}}\r\n",
    "$$\r\n",
    "\r\n",
    "Before we can compute the sonic pressure, however, we must first compute the stagnation pressure $p_{01}$ starting from the static pressure $p_1$:\r\n",
    "\r\n",
    "$$\r\n",
    "p_{01} = p_1 \\left(1 + \\frac{\\gamma - 1}{2} M_1^2 \\right)^{\\frac{\\gamma}{\\gamma - 1}}\r\n",
    "$$"
   ],
   "metadata": {}
  },
  {
   "cell_type": "code",
   "execution_count": 46,
   "source": [
    "p_01 = p_1 * (1 + (gamma - 1)/2 * M_1 ** 2) ** (gamma/(gamma - 1))\r\n",
    "print(f\"The stagnation pressure at location 1 is p_01 = {p_01*1e-3:0.2f} kPa\")\r\n",
    "\r\n",
    "p_star = p_01 * (2/(gamma + 1)) ** (gamma/(gamma - 1))\r\n",
    "print(f\"The sonic pressure is p_star = {p_star*1e-3:0.2f} kPa\")"
   ],
   "outputs": [
    {
     "output_type": "stream",
     "name": "stdout",
     "text": [
      "The stagnation pressure at location 1 is p_01 = 178.57 kPa\n",
      "The sonic pressure is p_star = 94.34 kPa\n"
     ]
    }
   ],
   "metadata": {}
  }
 ],
 "metadata": {
  "orig_nbformat": 4,
  "language_info": {
   "name": "python",
   "version": "3.9.7",
   "mimetype": "text/x-python",
   "codemirror_mode": {
    "name": "ipython",
    "version": 3
   },
   "pygments_lexer": "ipython3",
   "nbconvert_exporter": "python",
   "file_extension": ".py"
  },
  "kernelspec": {
   "name": "python3",
   "display_name": "Python 3.9.7 64-bit ('au-turbom': conda)"
  },
  "interpreter": {
   "hash": "46a2c83c2d39856e581c9d9e9103cafa7f7cbdbc42d7d075d34e1e4928c55f92"
  }
 },
 "nbformat": 4,
 "nbformat_minor": 2
}