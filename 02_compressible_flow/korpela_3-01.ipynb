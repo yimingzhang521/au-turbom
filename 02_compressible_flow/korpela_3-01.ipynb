{
 "cells": [
  {
   "cell_type": "markdown",
   "source": [
    "# Principles of Turbomachinery, S. A. Korpela, Wiley, 2019 (2nd Edition): Problem 3.1\r\n",
    "\r\n",
    "Conditions in an air reservoir are $680 \\ kPa$ and $560 \\ K$. From there, air flows isentropically through a convergent nozzle to a back pressure of $101.3 \\ kPa$. Find the velocity at the exit plane of the nozzle.\r\n",
    "\r\n",
    "---"
   ],
   "metadata": {}
  },
  {
   "cell_type": "code",
   "execution_count": 12,
   "source": [
    "%reset -f\r\n",
    "from sympy import sqrt\r\n",
    "\r\n",
    "p_01  = 680e3   # Reservoir pressure [Pa]\r\n",
    "T_1   = 560     # Reservoir temperature [K]\r\n",
    "p_2   = 101.3e3 # Exit pressure [Pa]\r\n",
    "gamma = 1.4     # Specific heat ratio [-]\r\n",
    "R     = 0.287e3 # Specific gas constant for air [J kg^-1 K^-1]"
   ],
   "outputs": [],
   "metadata": {}
  },
  {
   "cell_type": "markdown",
   "source": [
    "From the pressure ratio, we may check whether the isentropic flow reaches sonic conditions :\r\n",
    "\r\n",
    "$$\r\n",
    "\\frac{p_2}{p_{01}} < 0.5283\r\n",
    "$$"
   ],
   "metadata": {}
  },
  {
   "cell_type": "code",
   "execution_count": 13,
   "source": [
    "print(f\"The pressure ratio is r = {p_01/p_2:0.2f}\")"
   ],
   "outputs": [
    {
     "output_type": "stream",
     "name": "stdout",
     "text": [
      "The pressure ratio is r = 6.71\n"
     ]
    }
   ],
   "metadata": {}
  },
  {
   "cell_type": "markdown",
   "source": [
    "The flow is therefore choked, and the velocity at the outlet must be equal to the sonic velocity. We may find the temperature of the sonic state as follows:\r\n",
    "\r\n",
    "$$\r\n",
    "T^* = \\frac{2 T_0}{\\gamma + 1}\r\n",
    "$$"
   ],
   "metadata": {}
  },
  {
   "cell_type": "code",
   "execution_count": 14,
   "source": [
    "T_star = (2 * T_1)/(gamma + 1)\r\n",
    "print(f\"The sonic temperature is T_star = {T_star:0.2f} K\")"
   ],
   "outputs": [
    {
     "output_type": "stream",
     "name": "stdout",
     "text": [
      "The sonic temperature is T_star = 466.67 K\n"
     ]
    }
   ],
   "metadata": {}
  },
  {
   "cell_type": "markdown",
   "source": [
    "The velocity is then found from the definition of Mach number:\r\n",
    "\r\n",
    "$$\r\n",
    "V^* = \\sqrt{\\gamma R T^*}\r\n",
    "$$"
   ],
   "metadata": {}
  },
  {
   "cell_type": "code",
   "execution_count": 15,
   "source": [
    "V_star = sqrt(gamma * R * T_star)\r\n",
    "print(f\"The sonic (outlet) velocity is V_star = {V_star:0.1f} m s^-1\")"
   ],
   "outputs": [
    {
     "output_type": "stream",
     "name": "stdout",
     "text": [
      "The sonic (outlet) velocity is V_star = 433.0 m s^-1\n"
     ]
    }
   ],
   "metadata": {}
  },
  {
   "cell_type": "code",
   "execution_count": null,
   "source": [],
   "outputs": [],
   "metadata": {}
  }
 ],
 "metadata": {
  "orig_nbformat": 4,
  "language_info": {
   "name": "python",
   "version": "3.9.7",
   "mimetype": "text/x-python",
   "codemirror_mode": {
    "name": "ipython",
    "version": 3
   },
   "pygments_lexer": "ipython3",
   "nbconvert_exporter": "python",
   "file_extension": ".py"
  },
  "kernelspec": {
   "name": "python3",
   "display_name": "Python 3.9.7 64-bit ('au-turbom': conda)"
  },
  "interpreter": {
   "hash": "46a2c83c2d39856e581c9d9e9103cafa7f7cbdbc42d7d075d34e1e4928c55f92"
  }
 },
 "nbformat": 4,
 "nbformat_minor": 2
}