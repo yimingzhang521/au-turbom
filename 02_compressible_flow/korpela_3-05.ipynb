{
 "cells": [
  {
   "cell_type": "markdown",
   "source": [
    "# Principles of Turbomachinery, S. A. Korpela, Wiley, 2019 (2nd Edition): Problem 3.5\r\n",
    "\r\n",
    "In a location in a circular nozzle where the area is $A_1 = 4 \\ cm^2$, Mach number has the value $M_1 = 0.2$. Find the diameter at a location where $M = 0.6$.\r\n",
    "\r\n",
    "---"
   ],
   "metadata": {}
  },
  {
   "cell_type": "code",
   "execution_count": 21,
   "source": [
    "from numpy import (pi, sqrt)\r\n",
    "\r\n",
    "# Problem data\r\n",
    "A_1   = 4e-2 # Area at location 1 [m^2]\r\n",
    "M_1   = 0.2  # Mach number at location 1\r\n",
    "M_2   = 0.6  # Mach number at location 2\r\n",
    "gamma = 1.4  # Specific heat ratio"
   ],
   "outputs": [],
   "metadata": {}
  },
  {
   "cell_type": "markdown",
   "source": [
    "The ratio between the area at the specified location and the sonic cross sectional area may be written as:\r\n",
    "\r\n",
    "$$\r\n",
    "\\frac{A_1}{A^*} = \\frac{1}{M_1} \\left(\\frac{2}{\\gamma + 1} + \\frac{\\gamma - 1}{\\gamma + 1} M_1^2 \\right)^{\\frac{\\gamma + 1}{2 (\\gamma - 1)}}\r\n",
    "$$"
   ],
   "metadata": {}
  },
  {
   "cell_type": "code",
   "execution_count": 22,
   "source": [
    "r = 1/M_1 * (2/(gamma + 1) + (gamma - 1)/(gamma + 1) * M_1 ** 2) ** ((gamma + 1)/(2 * (gamma - 1)))\r\n",
    "print(f\"The ratio between areas is r = {r:0.3f}\")"
   ],
   "outputs": [
    {
     "output_type": "stream",
     "name": "stdout",
     "text": [
      "The ratio between areas is r = 2.964\n"
     ]
    }
   ],
   "metadata": {}
  },
  {
   "cell_type": "markdown",
   "source": [
    "The sonic area is then:\r\n",
    "\r\n",
    "$$\r\n",
    "A^* = \\frac{A_1}{r}\r\n",
    "$$"
   ],
   "metadata": {}
  },
  {
   "cell_type": "code",
   "execution_count": 23,
   "source": [
    "A_star = A_1/r\r\n",
    "print(f\"The sonic area is A_star = {A_star:0.2f} m^2\")"
   ],
   "outputs": [
    {
     "output_type": "stream",
     "name": "stdout",
     "text": [
      "The sonic area is A_star = 0.01 m^2\n"
     ]
    }
   ],
   "metadata": {}
  },
  {
   "cell_type": "markdown",
   "source": [
    "Relating the sonic area to the cross-sectional area at the second location:\r\n",
    "\r\n",
    "$$\r\n",
    "\\frac{A_2}{A^*} = \\frac{1}{M_2} \\left(\\frac{2}{\\gamma + 1} + \\frac{\\gamma - 1}{\\gamma + 1} M_2^2 \\right)^{\\frac{\\gamma + 1}{2 (\\gamma - 1)}}\r\n",
    "$$"
   ],
   "metadata": {}
  },
  {
   "cell_type": "code",
   "execution_count": 24,
   "source": [
    "r_2 = 1/M_2 * (2/(gamma + 1) + (gamma - 1)/(gamma + 1) * M_2 ** 2) ** ((gamma + 1)/(2 * (gamma - 1)))\r\n",
    "print(f\"The ratio between areas is r_2 = {r_2:0.3f}\")"
   ],
   "outputs": [
    {
     "output_type": "stream",
     "name": "stdout",
     "text": [
      "The ratio between areas is r_2 = 1.188\n"
     ]
    }
   ],
   "metadata": {}
  },
  {
   "cell_type": "markdown",
   "source": [
    "The area at location 2 is then:\r\n",
    "\r\n",
    "$$\r\n",
    "A_2 = r A^*\r\n",
    "$$"
   ],
   "metadata": {}
  },
  {
   "cell_type": "code",
   "execution_count": 27,
   "source": [
    "A_2 = r_2 * A_star\r\n",
    "print(f\"Area 2 is A_2 = {A_2:0.3f} m^2\")"
   ],
   "outputs": [
    {
     "output_type": "stream",
     "name": "stdout",
     "text": [
      "Area 2 is A_2 = 0.016 m^2\n"
     ]
    }
   ],
   "metadata": {}
  },
  {
   "cell_type": "markdown",
   "source": [
    "Consequently, the diameter at the second location is:\r\n",
    "\r\n",
    "$$\r\n",
    "D = \\sqrt{\\frac{4 A_2}{\\pi}}\r\n",
    "$$"
   ],
   "metadata": {}
  },
  {
   "cell_type": "code",
   "execution_count": 28,
   "source": [
    "D_2 = sqrt((4 * A_2)/pi)\r\n",
    "print(f\"The diameter at location 2 is D_2 = {D_2:0.3f} m\")"
   ],
   "outputs": [
    {
     "output_type": "stream",
     "name": "stdout",
     "text": [
      "The diameter at location 2 is D_2 = 0.143 m\n"
     ]
    }
   ],
   "metadata": {}
  }
 ],
 "metadata": {
  "orig_nbformat": 4,
  "language_info": {
   "name": "python",
   "version": "3.9.7",
   "mimetype": "text/x-python",
   "codemirror_mode": {
    "name": "ipython",
    "version": 3
   },
   "pygments_lexer": "ipython3",
   "nbconvert_exporter": "python",
   "file_extension": ".py"
  },
  "kernelspec": {
   "name": "python3",
   "display_name": "Python 3.9.7 64-bit ('au-turbom': conda)"
  },
  "interpreter": {
   "hash": "46a2c83c2d39856e581c9d9e9103cafa7f7cbdbc42d7d075d34e1e4928c55f92"
  }
 },
 "nbformat": 4,
 "nbformat_minor": 2
}