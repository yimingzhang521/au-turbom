{
 "cells": [
  {
   "cell_type": "code",
   "execution_count": 1,
   "source": [
    "%reset -f\r\n",
    "from CoolProp.CoolProp import PropsSI"
   ],
   "outputs": [],
   "metadata": {}
  },
  {
   "cell_type": "markdown",
   "source": [
    "# Principles of Turbomachinery, S. A. Korpela, 2nd Edition: Problem 2.8\r\n",
    "\r\n",
    "Air at static temperature 300 K and static pressure 140 kPa flows with velocity 60 m/s.\r\n",
    "(a). Evaluate the stagnation temperature and stagnation pressure of air\r\n",
    "(b) Repeat the calculation assuming that the airspeed is 300 m/s assuming constant specific heats.\r\n",
    "\r\n",
    "---"
   ],
   "metadata": {}
  },
  {
   "cell_type": "code",
   "execution_count": 1,
   "source": [
    "T_1 = 300\r\n",
    "p_1 = 140e3\r\n",
    "V_1 = 60\r\n",
    "\r\n",
    "T_01 = T_1 + 1/2 * V_1 ** 2\r\n",
    "display(T_01)\r\n",
    "p_01 = p_1 + 1/2 * V_1 ** 2\r\n",
    "\r\n"
   ],
   "outputs": [
    {
     "output_type": "display_data",
     "data": {
      "text/plain": [
       "2100.0"
      ]
     },
     "metadata": {}
    }
   ],
   "metadata": {}
  },
  {
   "cell_type": "code",
   "execution_count": null,
   "source": [],
   "outputs": [],
   "metadata": {}
  }
 ],
 "metadata": {
  "orig_nbformat": 4,
  "language_info": {
   "name": "python",
   "version": "3.9.7",
   "mimetype": "text/x-python",
   "codemirror_mode": {
    "name": "ipython",
    "version": 3
   },
   "pygments_lexer": "ipython3",
   "nbconvert_exporter": "python",
   "file_extension": ".py"
  },
  "kernelspec": {
   "name": "python3",
   "display_name": "Python 3.9.7 64-bit ('au-turbom': conda)"
  },
  "interpreter": {
   "hash": "46a2c83c2d39856e581c9d9e9103cafa7f7cbdbc42d7d075d34e1e4928c55f92"
  }
 },
 "nbformat": 4,
 "nbformat_minor": 2
}