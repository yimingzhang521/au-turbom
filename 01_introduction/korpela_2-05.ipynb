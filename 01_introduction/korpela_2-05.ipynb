{
 "cells": [
  {
   "cell_type": "markdown",
   "source": [
    "# Principles of Turbomachinery, S. A. Korpela, Wiley, 2019 (2nd Edition): Problem 2.5\r\n",
    "\r\n",
    "Liquid water at $700 \\ kPa$ and tempearture $20 \\ C$ flows at velocity $15 \\ m/s$. Find the stagnation temperature and stagnation pressure.\r\n",
    "\r\n",
    "---"
   ],
   "metadata": {}
  },
  {
   "cell_type": "code",
   "execution_count": 2,
   "source": [
    "%reset -f\r\n",
    "from CoolProp.CoolProp import PropsSI\r\n",
    "\r\n",
    "# Problem data\r\n",
    "T = 20 + 273.15 # Temperature [K]\r\n",
    "p = 700e3       # Pressure [Pa]\r\n",
    "V = 15          # Velocity [m/s]"
   ],
   "outputs": [],
   "metadata": {}
  },
  {
   "cell_type": "markdown",
   "source": [
    "The stagnation pressure of a fluid is defined as:\r\n",
    "\r\n",
    "$$\r\n",
    "T_0 = T + \\frac{V^2}{2 C_p}\r\n",
    "$$\r\n",
    "\r\n",
    "We find the specific heat at constrant pressure for water from thermodynamic coordinates $C_p = C_p(p, T)$ and proceed to find the stagnation temperature."
   ],
   "metadata": {}
  },
  {
   "cell_type": "code",
   "execution_count": 3,
   "source": [
    "C_p = PropsSI('C', 'P', p, 'T', T, 'Water')\r\n",
    "T_0 = T + (V ** 2)/(2 * C_p)\r\n",
    "print(f\"The stagnation temperature is T_0 = {T_0 - 273.15:0.3f} C\")"
   ],
   "outputs": [
    {
     "output_type": "stream",
     "name": "stdout",
     "text": [
      "The stagnation temperature is T_0 = 20.027 C\n"
     ]
    }
   ],
   "metadata": {}
  },
  {
   "cell_type": "markdown",
   "source": [
    "The stagnation pressure of a fluid is defined as:\r\n",
    "\r\n",
    "$$\r\n",
    "p_0 = p + \\frac{\\rho V^2}{2}\r\n",
    "$$\r\n",
    "\r\n",
    "We find the density of water from thermodynamic coordinates $\\rho = \\rho(p, T)$ and proceed to compute the stagnation pressure."
   ],
   "metadata": {}
  },
  {
   "cell_type": "code",
   "execution_count": 4,
   "source": [
    "rho = PropsSI('D', 'P', p, 'T', T, 'Water')\r\n",
    "p_0 = p + 1/2 * rho * V ** 2\r\n",
    "print(f\"The stagnation pressure is p_0 = {p_0 * 1e-3:0.2f} kPa\")"
   ],
   "outputs": [
    {
     "output_type": "stream",
     "name": "stdout",
     "text": [
      "The stagnation pressure is p_0 = 812.33 kPa\n"
     ]
    }
   ],
   "metadata": {}
  },
  {
   "cell_type": "code",
   "execution_count": null,
   "source": [],
   "outputs": [],
   "metadata": {}
  }
 ],
 "metadata": {
  "orig_nbformat": 4,
  "language_info": {
   "name": "python",
   "version": "3.9.7",
   "mimetype": "text/x-python",
   "codemirror_mode": {
    "name": "ipython",
    "version": 3
   },
   "pygments_lexer": "ipython3",
   "nbconvert_exporter": "python",
   "file_extension": ".py"
  },
  "kernelspec": {
   "name": "python3",
   "display_name": "Python 3.9.7 64-bit"
  },
  "interpreter": {
   "hash": "46a2c83c2d39856e581c9d9e9103cafa7f7cbdbc42d7d075d34e1e4928c55f92"
  }
 },
 "nbformat": 4,
 "nbformat_minor": 2
}