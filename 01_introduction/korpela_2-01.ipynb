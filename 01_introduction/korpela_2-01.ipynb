{
 "cells": [
  {
   "cell_type": "code",
   "execution_count": 22,
   "source": [
    "%reset -f\r\n",
    "from CoolProp.CoolProp import PropsSI\r\n",
    "from numpy import (cos, pi)"
   ],
   "outputs": [],
   "metadata": {}
  },
  {
   "cell_type": "markdown",
   "source": [
    "# Principles of Turbomachinery, S. A. Korpela, 2nd Edition: Problem 2.1\r\n",
    "\r\n",
    "Steam flows through a bank of nozzles shown in Figure 2.1, with wall thickness $t_2 = 2 \\ \\text{ mm}$, spacing $s = 4 \\ \\text{ cm}$, blade height $b = 2.5 \\ \\text{cm}$, and exit angle \\alpha_2 = 68 \\text{deg}. The exit velocity $V_2 = 400 \\ \\text{m/s}$, pressure is $p_2 = 1.5 \\ \\text{bar}$, and temperature $T_2 = 200 C$. Find the mass flow rate.\r\n",
    "\r\n",
    "---"
   ],
   "metadata": {}
  },
  {
   "cell_type": "code",
   "execution_count": 23,
   "source": [
    "t_2 = 2e-3            # Wall thickness [m]\r\n",
    "s = 4e-2              # Spacing [m]\r\n",
    "b = 2.5e-2            # Blade height [m]\r\n",
    "alpha_2 = 68 * pi/180 # Exit angle [rad]\r\n",
    "V_2 = 400             # Exit velocity [m/s]\r\n",
    "p_2 = 1.5e5           # Exit pressure [Pa]\r\n",
    "T_2 = 200 + 273.15    # Exit temperature [K]"
   ],
   "outputs": [],
   "metadata": {}
  },
  {
   "cell_type": "markdown",
   "source": [
    "The mass flow rate at the outlet may be expressed as:\r\n",
    "\r\n",
    "$$\r\n",
    "\\dot{m}_2 = \\dot{m} = \\rho_2 V_2 S_2 \r\n",
    "$$\r\n",
    "\r\n",
    "To compute it, we must first calculate the density of steam at the outlet $\\rho_2$ and the projected outlet area $S_2$\r\n",
    "\r\n",
    "We calculate steam density at the outlet using properties $(p_2, T_2)$."
   ],
   "metadata": {}
  },
  {
   "cell_type": "code",
   "execution_count": 24,
   "source": [
    "rho_2 = PropsSI('D', 'T', T_2, 'P', p_2, 'Water')\r\n",
    "print(f\"The steam density at the outlet is rho_2 = {rho_2:0.3f} kg/m^3\")"
   ],
   "outputs": [
    {
     "output_type": "stream",
     "name": "stdout",
     "text": [
      "The steam density at the outlet is rho_2 = 0.692 kg/m^3\n"
     ]
    }
   ],
   "metadata": {}
  },
  {
   "cell_type": "markdown",
   "source": [
    "With simple trigonometry, we reckon the adjacent angle to the outlet is $\\frac{\\pi}{2} - \\alpha$. The projected outlet area is therefore:\r\n",
    "\r\n",
    "$$\r\n",
    "S_2 = b (s - t_2) \\cos{\\left(\\frac{\\pi}{2} - \\alpha \\right)}\r\n",
    "$$"
   ],
   "metadata": {}
  },
  {
   "cell_type": "code",
   "execution_count": 27,
   "source": [
    "S_2 = b * (s - t_2) * cos(alpha_2)\r\n",
    "print(f\"The projected outlet area is S_2 = {S_2:0.6f} m^2\")"
   ],
   "outputs": [
    {
     "output_type": "stream",
     "name": "stdout",
     "text": [
      "The projected outlet area is S_2 = 0.000356 m^2\n"
     ]
    }
   ],
   "metadata": {}
  },
  {
   "cell_type": "markdown",
   "source": [
    "Finally, we may compute the mass flow rate at the outlet."
   ],
   "metadata": {}
  },
  {
   "cell_type": "code",
   "execution_count": 26,
   "source": [
    "mdot = rho_2 * V_2 * S_2\r\n",
    "print(f\"The mass flow rate is mdot = {mdot:0.3f} kg/s\")"
   ],
   "outputs": [
    {
     "output_type": "stream",
     "name": "stdout",
     "text": [
      "The mass flow rate is mdot = 0.099 kg/s\n"
     ]
    }
   ],
   "metadata": {}
  }
 ],
 "metadata": {
  "orig_nbformat": 4,
  "language_info": {
   "name": "python",
   "version": "3.9.7",
   "mimetype": "text/x-python",
   "codemirror_mode": {
    "name": "ipython",
    "version": 3
   },
   "pygments_lexer": "ipython3",
   "nbconvert_exporter": "python",
   "file_extension": ".py"
  },
  "kernelspec": {
   "name": "python3",
   "display_name": "Python 3.9.7 64-bit ('au-turbomach': conda)"
  },
  "interpreter": {
   "hash": "f1d1d351a0091f70e543cd0fb76c01dcfed3d545ea8336ac12e8ec14c4a32a73"
  }
 },
 "nbformat": 4,
 "nbformat_minor": 2
}