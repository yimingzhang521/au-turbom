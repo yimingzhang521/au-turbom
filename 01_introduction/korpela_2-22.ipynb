{
 "cells": [
  {
   "cell_type": "code",
   "execution_count": 45,
   "source": [
    "%reset -f\r\n",
    "from CoolProp.CoolProp import PropsSI"
   ],
   "outputs": [],
   "metadata": {}
  },
  {
   "cell_type": "code",
   "execution_count": 46,
   "source": [
    "V_1 = 190\r\n",
    "p_1 = 50e5\r\n",
    "T_1 = 560 + 273.15\r\n",
    "p_2 = 0.07e5\r\n",
    "T_2 = 120 + 273.15\r\n",
    "V_2 = 220\r\n",
    "\r\n",
    "h_1 = PropsSI('H', 'P', p_1, 'T', T_1, 'Water')\r\n",
    "print(f\"The enthalpy at the turbine inlet is h_1 = {h_1:0.2f} J kg^-1\")\r\n",
    "\r\n",
    "s_1 = PropsSI('S', 'P', p_1, 'T', T_1, 'Water')\r\n",
    "print(f\"The entropy at the turbine inlet is s_1 = {h_1:0.2f} J kg^-1\")\r\n",
    "\r\n",
    "# Assuming isentropic expansion\r\n",
    "s_2 = s_1\r\n",
    "\r\n",
    "h_2is = PropsSI('H', 'P', p_2, 'S', s_2, 'Water')\r\n",
    "T_2is = PropsSI('T', 'P', p_2, 'S', s_2, 'Water')\r\n",
    "print(T_2is)\r\n",
    "print(f\"The enthalpy at the turbine outlet assuming isentropic expansion is h_2is = {h_2is:0.2f} J kg^-1\")\r\n",
    "\r\n",
    "h_2 = PropsSI('H', 'P', p_2, 'T', T_2, 'Water')\r\n",
    "\r\n",
    "h_01 = h_1 + 1/2 * V_1 ** 2\r\n",
    "\r\n",
    "h_02 = h_2 + 1/2 * V_2 ** 2\r\n",
    "\r\n",
    "h_02is = h_2is + 1/2 * V_2 ** 2\r\n",
    "\r\n",
    "eta_tt = (h_01 - h_02)/(h_01 - h_02is)\r\n",
    "print(eta_tt)\r\n",
    "\r\n",
    "eta_ts = (h_01 - h_02)/(h_01 - h_2is)\r\n",
    "print(eta_ts)\r\n",
    "\r\n",
    "eta_ss = (h_1 - h_2)/(h_1 - h_2is)\r\n",
    "print(eta_ss)"
   ],
   "outputs": [
    {
     "output_type": "stream",
     "name": "stdout",
     "text": [
      "The enthalpy at the turbine inlet is h_1 = 3574055.31 J kg^-1\n",
      "The entropy at the turbine inlet is s_1 = 3574055.31 J kg^-1\n",
      "312.1495642648638\n",
      "The enthalpy at the turbine outlet assuming isentropic expansion is h_2is = 2221262.75 J kg^-1\n",
      "0.6252673120718775\n",
      "0.6142292327229207\n",
      "0.6269709036637535\n"
     ]
    }
   ],
   "metadata": {}
  }
 ],
 "metadata": {
  "orig_nbformat": 4,
  "language_info": {
   "name": "python",
   "version": "3.9.7",
   "mimetype": "text/x-python",
   "codemirror_mode": {
    "name": "ipython",
    "version": 3
   },
   "pygments_lexer": "ipython3",
   "nbconvert_exporter": "python",
   "file_extension": ".py"
  },
  "kernelspec": {
   "name": "python3",
   "display_name": "Python 3.9.7 64-bit ('au-turbom': conda)"
  },
  "interpreter": {
   "hash": "46a2c83c2d39856e581c9d9e9103cafa7f7cbdbc42d7d075d34e1e4928c55f92"
  }
 },
 "nbformat": 4,
 "nbformat_minor": 2
}