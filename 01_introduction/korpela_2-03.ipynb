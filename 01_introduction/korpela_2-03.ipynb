{
 "cells": [
  {
   "cell_type": "code",
   "execution_count": 12,
   "source": [
    "%reset -f\r\n",
    "from CoolProp.CoolProp import PropsSI"
   ],
   "outputs": [],
   "metadata": {}
  },
  {
   "cell_type": "markdown",
   "source": [
    "# Principles of Turbomachinery, S. A. Korpela, 2nd Edition: Problem 2.3\r\n",
    "\r\n",
    "Steam flows through a turbine at the rate of $\\dot{m} = 9000 \\ \\text{kg/h}$. The rate at which power is delivered by the turbine is $\\dot{W} = 440 \\ \\text{hp}$. The inlet stagnation pressure is $p_{01} = 70 \\text{bar}$ and stagnation temperature is $T_{01} = 420 \\text{C}$. For a reversible and adiabatic process, find the stagnation pressure and temperature leaving the turbine.\r\n",
    "\r\n",
    "---"
   ],
   "metadata": {}
  },
  {
   "cell_type": "code",
   "execution_count": 13,
   "source": [
    "mdot = 9000/3600    # Mass flow rate [kg s^-1]\r\n",
    "Wdot = 440 * 745.69 # Power output [W]\r\n",
    "p_01 = 70e5         # Inlet stagnation pressure [Pa]\r\n",
    "T_01 = 420 + 273.15 # Inlet stagnation temperature [K]"
   ],
   "outputs": [],
   "metadata": {}
  },
  {
   "cell_type": "code",
   "execution_count": 14,
   "source": [
    "h_01 = PropsSI('H', 'T', T_01, 'P', p_01, 'Water')\r\n",
    "print(f\"The stagnation enthalpy at the inlet is h_01 = {h_01:0.2f} J kg^-1\")\r\n"
   ],
   "outputs": [
    {
     "output_type": "stream",
     "name": "stdout",
     "text": [
      "The stagnation enthalpy at the inlet is h_01 = 3211849.17 J kg^-1\n"
     ]
    }
   ],
   "metadata": {}
  },
  {
   "cell_type": "markdown",
   "source": [
    "Recall the power output of the turbine (assuming the process is isentropic) may expressed as a function of the stagnation enthalpies at the inlet and at the outlet and the mass flow rate:\r\n",
    "\r\n",
    "$$\r\n",
    "\\dot{W} = \\dot{m} (h_{01} - h_{02})\r\n",
    "$$\r\n",
    "\r\n",
    "One may solve for $h_{02}$ to find the stagnation enthalpy at the outlet:\r\n",
    "\r\n",
    "$$\r\n",
    "h_{02} = h_{01} - \\frac{\\dot{W}}{\\dot{m}}\r\n",
    "$$"
   ],
   "metadata": {}
  },
  {
   "cell_type": "code",
   "execution_count": 15,
   "source": [
    "h_02 = h_01 - Wdot/mdot\r\n",
    "print(f\"The stagnation enthalpy at the outlet is h_02 = {h_02:0.2f} J kg^-1\")"
   ],
   "outputs": [
    {
     "output_type": "stream",
     "name": "stdout",
     "text": [
      "The stagnation enthalpy at the outlet is h_02 = 3080607.73 J kg^-1\n"
     ]
    }
   ],
   "metadata": {}
  },
  {
   "cell_type": "markdown",
   "source": [
    "Finally, using thermodynamic coordinates $(h_{02}, s_{02})$, one may calculate the stagnation pressure and stagnation temperature at the turbine outlet."
   ],
   "metadata": {}
  },
  {
   "cell_type": "code",
   "execution_count": 18,
   "source": [
    "s_01 = PropsSI('S', 'T', T_01, 'P', p_01, 'Water')\r\n",
    "print(f\"The entropy at the turbine inlet is s_01 = {s_01:0.2f} J kg^-1 K^-1\")\r\n",
    "\r\n",
    "# The process is isentropic\r\n",
    "s_02 = s_01\r\n",
    "\r\n",
    "p_02 = PropsSI('P', 'H', h_02, 'S', s_02, 'Water')\r\n",
    "print(f\"The stagnation pressure at the outlet is p_02 = {p_02:0.2f} Pa = {p_02 * 1e-5:0.2f} bar\")\r\n",
    "\r\n",
    "T_02 = PropsSI('T', 'H', h_02, 'S', s_02, 'Water')\r\n",
    "print(f\"The stagnation temperature at the outlet is T_02 = {T_02:0.2f} K = {T_02 - 273.15:0.2f} C\")"
   ],
   "outputs": [
    {
     "output_type": "stream",
     "name": "stdout",
     "text": [
      "The entropy at the turbine inlet is s_01 = 6527.34 J kg^-1 K^-1\n",
      "The stagnation pressure at the outlet is p_02 = 4358983.52 Pa = 43.59 bar\n",
      "The stagnation temperature at the outlet is T_02 = 621.49 K = 348.34 C\n"
     ]
    }
   ],
   "metadata": {}
  }
 ],
 "metadata": {
  "orig_nbformat": 4,
  "language_info": {
   "name": "python",
   "version": "3.9.7",
   "mimetype": "text/x-python",
   "codemirror_mode": {
    "name": "ipython",
    "version": 3
   },
   "pygments_lexer": "ipython3",
   "nbconvert_exporter": "python",
   "file_extension": ".py"
  },
  "kernelspec": {
   "name": "python3",
   "display_name": "Python 3.9.7 64-bit ('au-turbomach': conda)"
  },
  "interpreter": {
   "hash": "f1d1d351a0091f70e543cd0fb76c01dcfed3d545ea8336ac12e8ec14c4a32a73"
  }
 },
 "nbformat": 4,
 "nbformat_minor": 2
}