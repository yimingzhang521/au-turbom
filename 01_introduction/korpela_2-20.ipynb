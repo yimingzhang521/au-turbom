{
 "cells": [
  {
   "cell_type": "code",
   "execution_count": null,
   "source": [],
   "outputs": [],
   "metadata": {}
  },
  {
   "cell_type": "code",
   "execution_count": null,
   "source": [
    "T_01\r\n",
    "P_01\r\n",
    "V_01\r\n",
    "T_03\r\n",
    "P_03\r\n",
    "V_3\r\n",
    "gamma = 4/3\r\n",
    "M = 28.97\r\n",
    "T_01 = 1100\r\n",
    "R = 8.314\r\n",
    "Rstar = R/M\r\n",
    "# Steady state, ideal gas, constant cp, velocity in isentropic same as nonisentropic\r\n",
    "cp = (gamma * R)/(gamma -1 )\r\n",
    "h_01 = c_p * T_01\r\n",
    "h_03 = c_p * T_03\r\n",
    "T_03s = T_01 * (P_03/P_01)**((gamma-1)/(gamma))\r\n",
    "h_03s = cp * T_03s\r\n",
    "eta_tt = (h_01 - h_03)/(h_01 - h_03s)\r\n",
    "eta_ts = (h_01 - h_03)/(h_01 - h_03s + 1/2 * V_3 ** 2)"
   ],
   "outputs": [],
   "metadata": {}
  }
 ],
 "metadata": {
  "orig_nbformat": 4,
  "language_info": {
   "name": "python"
  }
 },
 "nbformat": 4,
 "nbformat_minor": 2
}