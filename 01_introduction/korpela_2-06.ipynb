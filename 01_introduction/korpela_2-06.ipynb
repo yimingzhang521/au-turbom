{
 "cells": [
  {
   "cell_type": "code",
   "execution_count": 1,
   "source": [
    "%reset -f\r\n",
    "from CoolProp.CoolProp import PropsSI"
   ],
   "outputs": [],
   "metadata": {}
  },
  {
   "cell_type": "markdown",
   "source": [
    "# Principles of Turbomachinery, S. A. Korpela, 2nd Edition: Problem 2.6\r\n",
    "\r\n",
    "Water at temperature $T_1 = 20 Ø$ flows through a turbine with inlet velocity V_1 = 3 m/s, static pressure p_1 = 780 kPa, and elevation z_1 = 2 m. At the exit, the conditions are V_2 = 6 m/s, p_2 = 100 kPa, and z_2 = 1.2 m. Find the specific work delivered by the turbine assuming it to be reversible.\r\n",
    "\r\n",
    "---"
   ],
   "metadata": {}
  },
  {
   "cell_type": "code",
   "execution_count": 6,
   "source": [
    "T_1 = 20 + 273.15\r\n",
    "V_1 = 3\r\n",
    "p_1 = 780e3\r\n",
    "z_1 = 2\r\n",
    "V_2 = 6\r\n",
    "p_2 = 100e3\r\n",
    "z_2 = 1.2\r\n",
    "g = 9.81\r\n",
    "\r\n",
    "h_1 = PropsSI('H', 'P', p_1, 'T', T_1, 'Water')\r\n",
    "print(f\"The enthalpy at the inlet is h_1 = {h_1:0.2f} J kg^-1\")\r\n",
    "\r\n",
    "s_1 = PropsSI('S', 'P', p_1, 'T', T_1, 'Water')\r\n",
    "print(f\"The entropy at the inlet is s_1 = {s_1:0.2f} J kg^-1\")\r\n",
    "\r\n",
    "# The turbine is isentropic\r\n",
    "s_2 = s_1\r\n",
    "\r\n",
    "h_2 = PropsSI('H', 'P', p_2, 'S', s_2, 'Water')\r\n",
    "print(f\"The enthalpy at the inlet is h_2 = {h_2:0.2f} J kg^-1\")\r\n",
    "\r\n",
    "h_01 = h_1 + 1/2 * V_1 ** 2 + g * z_1\r\n",
    "print(f\"The stagnation enthalpy at the inlet is h_01 = {h_01:0.2f} J kg^-1\")\r\n",
    "\r\n",
    "h_02 = h_2 + 1/2 * V_2 ** 2 + g * z_2\r\n",
    "print(f\"The stagnation enthalpy at the outlet is h_02 = {h_02:0.2f} J kg^-1\")\r\n",
    "\r\n",
    "w = h_01 - h_02\r\n",
    "print(f\"The specific work for the turbine is w = {w:0.2f} J kg^-1\")\r\n",
    "\r\n",
    "another_w = PropsSI('Q', 'P', p_1, 'T', T_1, 'Water')\r\n",
    "print(another_w)"
   ],
   "outputs": [
    {
     "output_type": "stream",
     "name": "stdout",
     "text": [
      "The enthalpy at the inlet is h_1 = 84645.78 J kg^-1\n",
      "The entropy at the inlet is s_1 = 296.32 J kg^-1\n",
      "The enthalpy at the inlet is h_2 = 83964.66 J kg^-1\n",
      "The stagnation enthalpy at the inlet is h_01 = 84669.90 J kg^-1\n",
      "The stagnation enthalpy at the outlet is h_02 = 83994.43 J kg^-1\n",
      "The specific work for the turbine is w = 675.46 J kg^-1\n",
      "-1.0\n"
     ]
    }
   ],
   "metadata": {}
  },
  {
   "cell_type": "code",
   "execution_count": null,
   "source": [],
   "outputs": [],
   "metadata": {}
  }
 ],
 "metadata": {
  "orig_nbformat": 4,
  "language_info": {
   "name": "python",
   "version": "3.9.7",
   "mimetype": "text/x-python",
   "codemirror_mode": {
    "name": "ipython",
    "version": 3
   },
   "pygments_lexer": "ipython3",
   "nbconvert_exporter": "python",
   "file_extension": ".py"
  },
  "kernelspec": {
   "name": "python3",
   "display_name": "Python 3.9.7 64-bit ('au-turbom': conda)"
  },
  "interpreter": {
   "hash": "46a2c83c2d39856e581c9d9e9103cafa7f7cbdbc42d7d075d34e1e4928c55f92"
  }
 },
 "nbformat": 4,
 "nbformat_minor": 2
}