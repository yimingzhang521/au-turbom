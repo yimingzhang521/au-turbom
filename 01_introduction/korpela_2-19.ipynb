{
 "cells": [
  {
   "cell_type": "markdown",
   "source": [
    "\r\n",
    "\r\n",
    "A multistage turbine has a stagnation pressure ratio of 2.5 across each of the four stages. The inlet stagnation temperature is $T_{01} = 1200 \\ K$ and the total-to-total efficiency or each stage is 0.87. Evaluate the overall total-to-total efficiency of the turbine by assuming that steam is flowing through it. Steam can be assumed to behave as a perfect gas with $\\gamma = 1.3$. Why is the overall efficiency higher than the stage efficiency? "
   ],
   "metadata": {}
  },
  {
   "cell_type": "code",
   "execution_count": 4,
   "source": [
    "%reset -f\r\n",
    "\r\n",
    "# Problem data\r\n",
    "T_01         = 1200 # Stagnation temperature at point 1 [K]\r\n",
    "eta_tt_stage = 0.87 # Stage total-to-total efficiency [-]\r\n",
    "p_r_stage    = 2.5  # Stage pressure ratio [-]\r\n",
    "gamma        = 1.3  # Specific heat ratio [-]"
   ],
   "outputs": [],
   "metadata": {}
  },
  {
   "cell_type": "markdown",
   "source": [
    "In the following, I am going to assume the book is referring to a calorically-perfect gas, that is, a gas with internal energy and enthalpy functions of temperature and constant heat capacities. Under this assumption, the definition of total-to-total efficiency simplifies as follows:\r\n",
    "\r\n",
    "$$\r\n",
    "\\eta_{tt} = \\frac{h_{01} - h_{02}}{h_{01} - h_{02s}} = \\frac{T_{01} - T_{02}}{T_{01} - T_{02s}}\r\n",
    "$$\r\n",
    "\r\n",
    "Let us now rearrange the expression to find $T_2$:\r\n",
    "\r\n",
    "$$\r\n",
    "T_{02} = T_{01} \\left(1 - \\eta_{tt} \\left(1 - \\frac{T_{02s}}{T_{01}} \\right) \\right)\r\n",
    "$$\r\n",
    "\r\n",
    "We may now express the temperature $T_{02s}$ by considering an isentropic process between states 1 and 2:\r\n",
    "\r\n",
    "$$\r\n",
    "T_{01} p_{01}^{\\frac{1 - \\gamma}{\\gamma}} = T_{02} p_{02}^{\\frac{1 - \\gamma}{\\gamma}}\r\n",
    "$$\r\n",
    "\r\n",
    "Solving for $T_{02s}$:\r\n",
    "\r\n",
    "$$\r\n",
    "T_{02s} = T_{01} \\left(\\frac{P_{01}}{P_{02}} \\right)^{\\frac{1 - \\gamma}{\\gamma}}\r\n",
    "$$\r\n",
    "\r\n",
    "Substituting back into the previously rearranged total-to-total efficiency expression and solving for $T_2$ $leads to:\r\n",
    "\r\n",
    "$$\r\n",
    "T_{02} = T_{01} \\left(1 - \\eta_{tt} \\left(1 - \\left( \\frac{P_{01}}{P_{02}} \\right)^{\\frac{1 - \\gamma}{\\gamma}} \\right) \\right)\r\n",
    "$$\r\n",
    "\r\n",
    "Since both the pressure ratio and the total-to-total efficiency $\\eta_{tt}$ are the same between two adjacent states, we may rewrite the previous expression relating directly state 1 to state 5 as follows:\r\n",
    "\r\n",
    "$$\r\n",
    "T_{05} = T_{01} \\prod_{i = 1}^{4} \\left(1-\\eta_{tt}\\left(1-\\left(\\frac{P_{02}}{P_{01}}\\right)^{\\frac{\\gamma-1}{\\gamma}} \\right) \\right) = \\left(1-\\eta_{tt}\\left(1-\\left(\\frac{P_{02}}{P_{01}}\\right)^{\\frac{\\gamma-1}{\\gamma}} \\right) \\right)^4\r\n",
    "$$"
   ],
   "metadata": {}
  },
  {
   "cell_type": "code",
   "execution_count": 5,
   "source": [
    "T_05 = T_01 * (1 - eta_tt_stage * (1 - 1/(p_r_stage ** ((gamma - 1)/gamma)))) ** 4\r\n",
    "print(f\"The temperature at the multistage turbine outlet is T_05 = {T_05:0.1f} K\")"
   ],
   "outputs": [
    {
     "output_type": "stream",
     "name": "stdout",
     "text": [
      "The temperature at the multistage turbine outlet is T_05 = 581.1 K\n"
     ]
    }
   ],
   "metadata": {}
  },
  {
   "cell_type": "markdown",
   "source": [
    "Before computing the efficiency, we must calculate the total pressure ratio across all stages:\r\n",
    "\r\n",
    "$$\r\n",
    "\\frac{p_{01}}{p_{05}} = \\prod_{i=1}^5 \\frac{p_{0i}}{p_{0(i+1)}} = \\left(\\frac{p_{02}}{p_{01}}\\right)^4\r\n",
    "$$"
   ],
   "metadata": {}
  },
  {
   "cell_type": "code",
   "execution_count": 6,
   "source": [
    "p_r = p_r_stage ** 4\r\n",
    "print(f\"The total pressure ratio of the multistage turbine is {p_r:0.0f}\")"
   ],
   "outputs": [
    {
     "output_type": "stream",
     "name": "stdout",
     "text": [
      "The total pressure ratio of the multistage turbine is 39\n"
     ]
    }
   ],
   "metadata": {}
  },
  {
   "cell_type": "markdown",
   "source": [
    "Rewriting the definition of total efficiency $\\eta_{tt}$ between states 1 and 5 and expressing the isentropic temperature $T_{05}$ through the pressure ratio across the multistage turbine, the total-to-total efficiency is then:\r\n",
    "\r\n",
    "$$\r\n",
    "\\eta_{tt} = \\frac{1 - \\frac{T_{05}}{T_{01}}}{1 - \\left( \\frac{p_{05}}{p_{01}} \\right)^{\\frac{\\gamma}{\\gamma - 1}}}\r\n",
    "$$"
   ],
   "metadata": {}
  },
  {
   "cell_type": "code",
   "execution_count": 15,
   "source": [
    "eta_tt = (1 - T_05/T_01)/(1 - (1/p_r) ** ((gamma - 1)/gamma))\r\n",
    "print(f\"The total-to-total efficiency of the multistage turbine is {eta_tt:0.3f}\")"
   ],
   "outputs": [
    {
     "output_type": "stream",
     "name": "stdout",
     "text": [
      "The total-to-total efficiency of the multistage turbine is 0.904\n"
     ]
    }
   ],
   "metadata": {}
  },
  {
   "cell_type": "markdown",
   "source": [
    "Multistage expansion is more efficient because of the irreversibility of the expansion process. The increase in entropy throughout the expansion causes an increase in fluid temperature, effectively leading to heat recovery. This same heat is then available to the expansion process in the subsequent stage."
   ],
   "metadata": {}
  }
 ],
 "metadata": {
  "orig_nbformat": 4,
  "language_info": {
   "name": "python",
   "version": "3.9.7",
   "mimetype": "text/x-python",
   "codemirror_mode": {
    "name": "ipython",
    "version": 3
   },
   "pygments_lexer": "ipython3",
   "nbconvert_exporter": "python",
   "file_extension": ".py"
  },
  "kernelspec": {
   "name": "python3",
   "display_name": "Python 3.9.7 64-bit"
  },
  "interpreter": {
   "hash": "46a2c83c2d39856e581c9d9e9103cafa7f7cbdbc42d7d075d34e1e4928c55f92"
  }
 },
 "nbformat": 4,
 "nbformat_minor": 2
}