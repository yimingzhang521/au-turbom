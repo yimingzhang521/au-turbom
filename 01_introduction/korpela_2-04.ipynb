{
 "cells": [
  {
   "cell_type": "code",
   "execution_count": 8,
   "source": [
    "%reset -f\r\n",
    "from CoolProp.CoolProp import PropsSI"
   ],
   "outputs": [],
   "metadata": {}
  },
  {
   "cell_type": "markdown",
   "source": [
    "# Principles of Turbomachinery, S. A. Korpela, 2nd Edition: Problem 2.4 \r\n",
    "\r\n",
    "Water enters a pump as saturated liquid at stagnation pressure $P_{01} = 1.08 \\text{ bar}$ and leaves it at $p_{02} = 30 \\text{ bar}$. The mass flow rate is $\\dot{m} = 10000 \\text{ kg/h}$ and assuming that the process takes place reversibly and adiabatically, determine the power required.\r\n",
    "\r\n",
    "---"
   ],
   "metadata": {}
  },
  {
   "cell_type": "code",
   "execution_count": 30,
   "source": [
    "P_01 = 0.08e5 # Pump inlet stagnation pressure\r\n",
    "P_02 = 30e5   # Pump outlet stagnation pressure\r\n",
    "mdot = 10000/3600\r\n",
    "rho_01 = PropsSI('D', 'P', P_01, 'Q', 0, 'Water')\r\n",
    "h_01 = PropsSI('H', 'P', P_01, 'Q', 0, 'Water')\r\n",
    "s_01 = PropsSI('S', 'P', P_01, 'Q', 0, 'Water')\r\n",
    "h_02 = PropsSI('H', 'P', P_02, 'S', s_01, 'Water')\r\n",
    "W = mdot * (h_01 - h_02)\r\n",
    "display(W)"
   ],
   "outputs": [
    {
     "output_type": "display_data",
     "data": {
      "text/plain": [
       "-8376.224403431519"
      ]
     },
     "metadata": {}
    }
   ],
   "metadata": {}
  },
  {
   "cell_type": "markdown",
   "source": [],
   "metadata": {}
  }
 ],
 "metadata": {
  "orig_nbformat": 4,
  "language_info": {
   "name": "python",
   "version": "3.9.7",
   "mimetype": "text/x-python",
   "codemirror_mode": {
    "name": "ipython",
    "version": 3
   },
   "pygments_lexer": "ipython3",
   "nbconvert_exporter": "python",
   "file_extension": ".py"
  },
  "kernelspec": {
   "name": "python3",
   "display_name": "Python 3.9.7 64-bit ('au-turbomach': conda)"
  },
  "interpreter": {
   "hash": "f1d1d351a0091f70e543cd0fb76c01dcfed3d545ea8336ac12e8ec14c4a32a73"
  }
 },
 "nbformat": 4,
 "nbformat_minor": 2
}