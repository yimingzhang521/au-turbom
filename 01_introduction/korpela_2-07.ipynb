{
 "cells": [
  {
   "cell_type": "markdown",
   "source": [
    "# Principles of Turbomachinery, S. A. Korpela, Wiley, 2019 (2nd Edition): Problem 2.7\r\n",
    "\r\n",
    "Air at static pressure $2 \\ bar$ and static temperature $300 \\ K$ flows with velocity $60 m/s$. Find stagnation temperature and pressure assuming constant specific heats.\r\n",
    "\r\n",
    "---"
   ],
   "metadata": {}
  },
  {
   "cell_type": "code",
   "execution_count": 1,
   "source": [
    "%reset -f\r\n",
    "from CoolProp.CoolProp import PropsSI\r\n",
    "\r\n",
    "# Problem data\r\n",
    "p = 2e5 # Pressure [Pa]\r\n",
    "T = 300 # Temperature [K]\r\n",
    "V = 60  # Velocity [m/s]"
   ],
   "outputs": [],
   "metadata": {}
  },
  {
   "cell_type": "markdown",
   "source": [
    "Recalling the definition of stagnation temperature:\r\n",
    "\r\n",
    "$$\r\n",
    "T_0 = T + \\frac{V^2}{2 C_p}\r\n",
    "$$\r\n",
    "\r\n",
    "The value of specific heat at constant pressure for air may be found through thermodynamic coordinates $c_p = c_p(p, T)$."
   ],
   "metadata": {}
  },
  {
   "cell_type": "code",
   "execution_count": 5,
   "source": [
    "C_p = PropsSI('C', 'P', p, 'T', T, 'Air')\r\n",
    "T_0 = T + (V ** 2)/(2 * C_p)\r\n",
    "print(f\"The stagnation temperature is T_0 = {T_0:0.1f} K\")"
   ],
   "outputs": [
    {
     "output_type": "stream",
     "name": "stdout",
     "text": [
      "The stagnation temperature is T_0 = 301.8 K\n"
     ]
    }
   ],
   "metadata": {}
  },
  {
   "cell_type": "markdown",
   "source": [
    "In a similar fashion, we recall the definition of stagnation pressure:\r\n",
    "\r\n",
    "$$\r\n",
    "p_0 = p + \\frac{\\rho V^2}{2}\r\n",
    "$$\r\n",
    "\r\n",
    "We may find the density of water from thermodynamic coordinates $\\rho = \\rho(p, T)$ and proceed to compute the stagnation pressure."
   ],
   "metadata": {}
  },
  {
   "cell_type": "code",
   "execution_count": 4,
   "source": [
    "rho = PropsSI('D', 'P', p, 'T', T, 'Air')\r\n",
    "p_0 = p + 1/2 * rho * V ** 2\r\n",
    "print(f\"The stagnation temperature is p_0 = {p_0 * 1e-3:0.1f} kPa\")"
   ],
   "outputs": [
    {
     "output_type": "stream",
     "name": "stdout",
     "text": [
      "The stagnation temperature is p_0 = 204.2 kPa\n"
     ]
    }
   ],
   "metadata": {}
  },
  {
   "cell_type": "code",
   "execution_count": null,
   "source": [],
   "outputs": [],
   "metadata": {}
  }
 ],
 "metadata": {
  "orig_nbformat": 4,
  "language_info": {
   "name": "python",
   "version": "3.9.7",
   "mimetype": "text/x-python",
   "codemirror_mode": {
    "name": "ipython",
    "version": 3
   },
   "pygments_lexer": "ipython3",
   "nbconvert_exporter": "python",
   "file_extension": ".py"
  },
  "kernelspec": {
   "name": "python3",
   "display_name": "Python 3.9.7 64-bit"
  },
  "interpreter": {
   "hash": "46a2c83c2d39856e581c9d9e9103cafa7f7cbdbc42d7d075d34e1e4928c55f92"
  }
 },
 "nbformat": 4,
 "nbformat_minor": 2
}