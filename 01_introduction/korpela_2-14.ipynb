{
 "cells": [
  {
   "cell_type": "markdown",
   "source": [
    "# Principles of Turbomachinery, S. A. Korpela, Wiley, 2019 (2nd Edition): Problem 2.14\r\n",
    "\r\n",
    "Air flows in a circular duct of diameter $4 \\ cm$ at the rate of $0.5 kg/s$. The flow is adiabatic with stagnation temperature $288 \\ K$. At a certain location, the static pressure is $110 \\ kPa$. Find the velocity at this location."
   ],
   "metadata": {}
  },
  {
   "cell_type": "code",
   "execution_count": 2,
   "source": [
    "%reset -f\r\n",
    "from sympy import (pi, solve, Symbol)\r\n",
    "\r\n",
    "# Problem data\r\n",
    "R    = 0.287e3 # Specific gas constant for dry air [J kg^-1 K^-1]\r\n",
    "d    = 4e-2    # Diameter [m]\r\n",
    "T_0  = 288     # Stagnation temperature [K]\r\n",
    "p    = 110e3   # Static pressure [Pa]\r\n",
    "cp   = 1.005e3 # Specific heat at constant pressure [J kg^-1 K^-1]\r\n",
    "mdot = 0.5     # Mass flow rate [kg s^-1]"
   ],
   "outputs": [],
   "metadata": {}
  },
  {
   "cell_type": "markdown",
   "source": [
    "Let us begin by writing conservation of mass for the duct:\r\n",
    "\r\n",
    "$$\r\n",
    "\\dot{m} = \\rho V S\r\n",
    "$$\r\n",
    "\r\n",
    "Under the assumption of ideal gas, we may rewrite the density term using the ideal gas law:\r\n",
    "\r\n",
    "$$\r\n",
    "p = \\rho R^* T\r\n",
    "$$\r\n",
    "\r\n",
    "Solving for density $\\rho$ and plugging the result in the conservation of mass we find:\r\n",
    "\r\n",
    "$$\r\n",
    "\\dot{m} = \\frac{\\rho S V}{R^* T}\r\n",
    "$$\r\n",
    "\r\n",
    "Recall the definition of stagnation temperature $T_0$ and solving for $T$:\r\n",
    "\r\n",
    "$$\r\n",
    "T_0 = T + \\frac{V^2}{2 c_p} \\Rightarrow T = T_0 - \\frac{V^2}{2 c_p}\r\n",
    "$$\r\n",
    "\r\n",
    "Substituting back into the conservation of mass equation and grouping terms in power of $V$, we find:\r\n",
    "\r\n",
    "$$\r\n",
    "V^2 + \\frac{2 c_p p S}{\\dot{m} R} V - 2 c_p T_0 = 0\r\n",
    "$$\r\n",
    "\r\n",
    "The expression found is a second-order polynomial in variable $V$, with two distinct and real roots."
   ],
   "metadata": {}
  },
  {
   "cell_type": "code",
   "execution_count": 3,
   "source": [
    "# Cross-sectional area of the duct\r\n",
    "S = (pi * d ** 2)/4\r\n",
    "\r\n",
    "# Solving the quadratic equation\r\n",
    "V = Symbol('V')\r\n",
    "poly = V ** 2 + (2 * p * S * cp)/(mdot*R) * V - 2 * T_0 * cp\r\n",
    "V_sol = solve(poly, V)\r\n",
    "print(f\"The two solutions to the velocity equation are: {V_sol[0]:0.2f} m/s, {V_sol[1]:0.2f} m/s\")"
   ],
   "outputs": [
    {
     "output_type": "stream",
     "name": "stdout",
     "text": [
      "The two solutions to the velocity equation are: -2199.39 m/s, 263.20 m/s\n"
     ]
    }
   ],
   "metadata": {}
  },
  {
   "cell_type": "markdown",
   "source": [
    "Of the two solutions of the quadratic equation, only one is of physical significance and is chosen as the result, as the other implies an extremely large (higher than the speed of sound) velocity opposite to the flow."
   ],
   "metadata": {}
  }
 ],
 "metadata": {
  "orig_nbformat": 4,
  "language_info": {
   "name": "python",
   "version": "3.9.7",
   "mimetype": "text/x-python",
   "codemirror_mode": {
    "name": "ipython",
    "version": 3
   },
   "pygments_lexer": "ipython3",
   "nbconvert_exporter": "python",
   "file_extension": ".py"
  },
  "kernelspec": {
   "name": "python3",
   "display_name": "Python 3.9.7 64-bit"
  },
  "interpreter": {
   "hash": "46a2c83c2d39856e581c9d9e9103cafa7f7cbdbc42d7d075d34e1e4928c55f92"
  }
 },
 "nbformat": 4,
 "nbformat_minor": 2
}