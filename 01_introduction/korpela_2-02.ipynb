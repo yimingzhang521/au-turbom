{
 "cells": [
  {
   "cell_type": "markdown",
   "source": [
    "# Principles of Turbomachinery, S. A. Korpela, Wiley, 2019 (2nd Edition): Problem 2.2\r\n",
    "\r\n",
    "Air enters a compressor from atmosphere to pressure at $102 \\ kPa$ and temperature $42 \\ C$. Assuming that its density remains constant, determine the specific compression work required to raise its pressure to $140 \\ kPa$ in a reversible adiabatic process, given an exit velocity of $50 \\ m/s$.\r\n",
    "\r\n",
    "---"
   ],
   "metadata": {}
  },
  {
   "cell_type": "code",
   "execution_count": 11,
   "source": [
    "%reset -f\r\n",
    "from CoolProp.CoolProp import PropsSI\r\n",
    "\r\n",
    "# Problem data\r\n",
    "p_1   = 102e3       # Intake pressure [Pa]\r\n",
    "T_1   = 42 + 273.15 # Intake temperature [K]\r\n",
    "p_2   = 140e3       # Outlet pressure [Pa]\r\n",
    "V_2   = 50          # Outlet velocity [m/s]\r\n",
    "gamma = 1.4         # Specific heat ratio [-]"
   ],
   "outputs": [],
   "metadata": {}
  },
  {
   "cell_type": "markdown",
   "source": [
    "The compression process is assumed to be adiabatic $q = 0$ and reversible $\\frac{\\partial q}{T} = 0$. Under these assumptions the outlet temperature may be calculated using the equation for an adiabatic process:\r\n",
    "\r\n",
    "$$\r\n",
    "T_1 p_1^{\\frac{1 - \\gamma}{\\gamma}} = T_2 p_2^{\\frac{1 - \\gamma}{\\gamma}} \r\n",
    "$$\r\n",
    "\r\n",
    "Solving for $T_2$, we find:\r\n",
    "\r\n",
    "$$\r\n",
    "T_2 = T_1 - \\left(\\frac{p_1}{p_2}\\right)^{\\frac{1 - \\gamma}{\\gamma}}\r\n",
    "$$"
   ],
   "metadata": {}
  },
  {
   "cell_type": "code",
   "execution_count": 12,
   "source": [
    "    T_2 = T_1 * (p_1/p_2) ** ((1 - gamma)/gamma)\r\n",
    "    print(f\"The temperature at the compressor outlet is T_2 = {T_2:0.2f} K\")"
   ],
   "outputs": [
    {
     "output_type": "stream",
     "name": "stdout",
     "text": [
      "The temperature at the compressor outlet is T_2 = 344.99 K\n"
     ]
    }
   ],
   "metadata": {}
  },
  {
   "cell_type": "markdown",
   "source": [
    "The specific work required by the compressor is found by writing conservation of energy a control volume enclosing the compressor:\r\n",
    "\r\n",
    "$$\r\n",
    "\\dot{m} \\left(h_1 + \\frac{V_1^2}{2} + g z_1\\right) + \\dot{q} - \\dot{w} = \\dot{m} \\left(h_2 + \\frac{V_2^2}{2} + g z_2\\right)\r\n",
    "$$\r\n",
    "\r\n",
    "Let us assume that:\r\n",
    "* The kinetic energy at the compressor inlet is negligible $V_1 \\approx 0$\r\n",
    "* The change in potential energy between inlet and outlet is negligible $z_1 \\approx z_2$\r\n",
    "* The machine is adiabatic $q = 0$\r\n",
    "* The fluid is incompressible ($\\frac{\\partial \\rho}{\\partial x_i} = 0 \\ \\forall x_i$)\r\n",
    "* Air behaves like an ideal gas ($c_p = const$, $h = h(T) = c_p \\Delta T$)\r\n",
    "\r\n",
    "Conservation of energy reduces to:\r\n",
    "\r\n",
    "$$\r\n",
    "\\frac{P_1}{\\rho} - w = \\frac{P_2}{\\rho} + \\frac{V_2^2}{2}\r\n",
    "$$\r\n",
    "\r\n",
    "Solving for $w$ leads to:\r\n",
    "\r\n",
    "$$\r\n",
    "w = \\frac{p_2 - p_1}{\\rho} + \\frac{V_2^2}{2}\r\n",
    "$$"
   ],
   "metadata": {}
  },
  {
   "cell_type": "code",
   "execution_count": 15,
   "source": [
    "rho = PropsSI('D', 'T', T_1, 'P', p_1, 'Air')\r\n",
    "print(f\"The density of air is rho = {rho:0.4f} kg m^-3\")\r\n",
    "\r\n",
    "C_p = PropsSI('C', 'P', p_1, 'T', T_1, 'Air')\r\n",
    "print(f\"The specific heat for air at pressure p_1 and temperature T_1 is C_p = {C_p:0.2f} J kg^-1 K^-1\")\r\n",
    "\r\n",
    "w = (p_2 - p_1)/rho + 1/2 * V_2 ** 2\r\n",
    "print(f\"The specific work required by the compressor outlet is w = {w:0.2f} J kg^-1\")"
   ],
   "outputs": [
    {
     "output_type": "stream",
     "name": "stdout",
     "text": [
      "The density of air is rho = 1.1277 kg m^-3\n",
      "The specific heat for air at pressure p_1 and temperature T_1 is C_p = 1007.03 J kg^-1 K^-1\n",
      "The specific work required by the compressor outlet is w = 34945.63 J kg^-1\n"
     ]
    }
   ],
   "metadata": {}
  },
  {
   "cell_type": "code",
   "execution_count": null,
   "source": [],
   "outputs": [],
   "metadata": {}
  }
 ],
 "metadata": {
  "orig_nbformat": 4,
  "language_info": {
   "name": "python",
   "version": "3.9.7",
   "mimetype": "text/x-python",
   "codemirror_mode": {
    "name": "ipython",
    "version": 3
   },
   "pygments_lexer": "ipython3",
   "nbconvert_exporter": "python",
   "file_extension": ".py"
  },
  "kernelspec": {
   "name": "python3",
   "display_name": "Python 3.9.7 64-bit"
  },
  "interpreter": {
   "hash": "46a2c83c2d39856e581c9d9e9103cafa7f7cbdbc42d7d075d34e1e4928c55f92"
  }
 },
 "nbformat": 4,
 "nbformat_minor": 2
}