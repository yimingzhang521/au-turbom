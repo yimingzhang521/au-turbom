{
 "cells": [
  {
   "cell_type": "code",
   "execution_count": null,
   "source": [
    "P_1 = 101.3e3\r\n",
    "T_1 = 288\r\n",
    "\r\n",
    "P_2 = 420e3\r\n",
    "V_2 = 300\r\n",
    "\r\n",
    "T_1 = PropsSI('H', 'P', P_1, 'T', T_1, 'Air')\r\n",
    "T_ "
   ],
   "outputs": [],
   "metadata": {}
  }
 ],
 "metadata": {
  "orig_nbformat": 4,
  "language_info": {
   "name": "python"
  }
 },
 "nbformat": 4,
 "nbformat_minor": 2
}